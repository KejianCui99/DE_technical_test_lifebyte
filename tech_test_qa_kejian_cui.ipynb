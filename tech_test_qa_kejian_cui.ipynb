{
 "cells": [
  {
   "cell_type": "code",
   "execution_count": 10,
   "metadata": {},
   "outputs": [
    {
     "name": "stdout",
     "output_type": "stream",
     "text": [
      "Requirement already satisfied: pip in /opt/homebrew/lib/python3.10/site-packages (24.3.1)\n",
      "Note: you may need to restart the kernel to use updated packages.\n",
      "Requirement already satisfied: pandas in /opt/homebrew/lib/python3.10/site-packages (2.2.3)\n",
      "Requirement already satisfied: numpy>=1.22.4 in /opt/homebrew/lib/python3.10/site-packages (from pandas) (2.1.2)\n",
      "Requirement already satisfied: python-dateutil>=2.8.2 in /Users/ckj/Library/Python/3.10/lib/python/site-packages (from pandas) (2.9.0.post0)\n",
      "Requirement already satisfied: pytz>=2020.1 in /opt/homebrew/lib/python3.10/site-packages (from pandas) (2024.2)\n",
      "Requirement already satisfied: tzdata>=2022.7 in /opt/homebrew/lib/python3.10/site-packages (from pandas) (2024.2)\n",
      "Requirement already satisfied: six>=1.5 in /Users/ckj/Library/Python/3.10/lib/python/site-packages (from python-dateutil>=2.8.2->pandas) (1.16.0)\n",
      "Note: you may need to restart the kernel to use updated packages.\n",
      "Requirement already satisfied: numpy in /opt/homebrew/lib/python3.10/site-packages (2.1.2)\n",
      "Note: you may need to restart the kernel to use updated packages.\n",
      "Requirement already satisfied: psycopg2 in /opt/homebrew/lib/python3.10/site-packages (2.9.10)\n",
      "Note: you may need to restart the kernel to use updated packages.\n",
      "Collecting python-dotenv\n",
      "  Using cached python_dotenv-1.0.1-py3-none-any.whl.metadata (23 kB)\n",
      "Using cached python_dotenv-1.0.1-py3-none-any.whl (19 kB)\n",
      "Installing collected packages: python-dotenv\n",
      "Successfully installed python-dotenv-1.0.1\n",
      "Note: you may need to restart the kernel to use updated packages.\n"
     ]
    }
   ],
   "source": [
    "%pip install --upgrade pip\n",
    "%pip install pandas\n",
    "%pip install numpy\n",
    "%pip install psycopg2\n",
    "%pip install python-dotenv"
   ]
  },
  {
   "cell_type": "code",
   "execution_count": 1,
   "metadata": {},
   "outputs": [],
   "source": [
    "import os\n",
    "import pandas as pd\n",
    "import numpy as np\n",
    "import psycopg2\n",
    "from datetime import datetime\n",
    "from dotenv import load_dotenv"
   ]
  },
  {
   "cell_type": "code",
   "execution_count": 2,
   "metadata": {},
   "outputs": [],
   "source": [
    "# database config params\n",
    "load_dotenv()\n",
    "\n",
    "db_config = {\n",
    "    \"dbname\": os.getenv(\"DB_NAME\"),\n",
    "    \"user\": os.getenv(\"DB_USER\"),\n",
    "    \"password\": os.getenv(\"DB_PASSWORD\"),\n",
    "    \"host\": os.getenv(\"DB_HOST\"),\n",
    "    \"port\": os.getenv(\"DB_PORT\")\n",
    "}"
   ]
  },
  {
   "cell_type": "code",
   "execution_count": 3,
   "metadata": {},
   "outputs": [],
   "source": [
    "# get data from database\n",
    "def get_data(query):\n",
    "    connection = psycopg2.connect(**db_config)\n",
    "    try:\n",
    "        df = pd.read_sql_query(query, connection)\n",
    "    except Exception as e:\n",
    "        print(\"Database connection failed due to {}\".format(e)) \n",
    "    finally:\n",
    "        connection.close()\n",
    "\n",
    "    return df"
   ]
  },
  {
   "cell_type": "code",
   "execution_count": 4,
   "metadata": {},
   "outputs": [
    {
     "name": "stderr",
     "output_type": "stream",
     "text": [
      "/var/folders/4t/jfxk0vxj3w7d5w6fvjxd7b7c0000gn/T/ipykernel_35600/3380552990.py:5: UserWarning: pandas only supports SQLAlchemy connectable (engine/connection) or database string URI or sqlite3 DBAPI2 connection. Other DBAPI2 objects are not tested. Please consider using SQLAlchemy.\n",
      "  df = pd.read_sql_query(query, connection)\n"
     ]
    }
   ],
   "source": [
    "# load all datasets\n",
    "users_df = get_data(\"SELECT * FROM users\")\n",
    "trades_df = get_data(\"SELECT * FROM trades\")"
   ]
  },
  {
   "cell_type": "code",
   "execution_count": 36,
   "metadata": {},
   "outputs": [
    {
     "data": {
      "text/html": [
       "<div>\n",
       "<style scoped>\n",
       "    .dataframe tbody tr th:only-of-type {\n",
       "        vertical-align: middle;\n",
       "    }\n",
       "\n",
       "    .dataframe tbody tr th {\n",
       "        vertical-align: top;\n",
       "    }\n",
       "\n",
       "    .dataframe thead th {\n",
       "        text-align: right;\n",
       "    }\n",
       "</style>\n",
       "<table border=\"1\" class=\"dataframe\">\n",
       "  <thead>\n",
       "    <tr style=\"text-align: right;\">\n",
       "      <th></th>\n",
       "      <th>login_hash</th>\n",
       "      <th>server_hash</th>\n",
       "      <th>country_hash</th>\n",
       "      <th>currency</th>\n",
       "      <th>enable</th>\n",
       "    </tr>\n",
       "  </thead>\n",
       "  <tbody>\n",
       "    <tr>\n",
       "      <th>0</th>\n",
       "      <td>03A15F382AF3D505592CA69EFD4DC431</td>\n",
       "      <td>76791A893BDB9A68E8EE44898D581A60</td>\n",
       "      <td>AE54A5C026F31ADA088992587D92CB3A</td>\n",
       "      <td>USD</td>\n",
       "      <td>1</td>\n",
       "    </tr>\n",
       "    <tr>\n",
       "      <th>1</th>\n",
       "      <td>F8ADF5FF9840712CE2AF7FA9EA2A3FA7</td>\n",
       "      <td>76791A893BDB9A68E8EE44898D581A60</td>\n",
       "      <td>AE54A5C026F31ADA088992587D92CB3A</td>\n",
       "      <td>USD</td>\n",
       "      <td>1</td>\n",
       "    </tr>\n",
       "    <tr>\n",
       "      <th>2</th>\n",
       "      <td>B78CD788AB20A5D61CB13BD5389CABB3</td>\n",
       "      <td>76791A893BDB9A68E8EE44898D581A60</td>\n",
       "      <td>AE54A5C026F31ADA088992587D92CB3A</td>\n",
       "      <td>USD</td>\n",
       "      <td>1</td>\n",
       "    </tr>\n",
       "    <tr>\n",
       "      <th>3</th>\n",
       "      <td>DEFB729116227EF8582BFEC65F998489</td>\n",
       "      <td>76791A893BDB9A68E8EE44898D581A60</td>\n",
       "      <td>103357E3E40A9C0E4E9D36110F7BBC7A</td>\n",
       "      <td>USD</td>\n",
       "      <td>1</td>\n",
       "    </tr>\n",
       "    <tr>\n",
       "      <th>4</th>\n",
       "      <td>9EAD9A73AA6C93823C56BB8C2E798B45</td>\n",
       "      <td>76791A893BDB9A68E8EE44898D581A60</td>\n",
       "      <td>AE54A5C026F31ADA088992587D92CB3A</td>\n",
       "      <td>USD</td>\n",
       "      <td>1</td>\n",
       "    </tr>\n",
       "    <tr>\n",
       "      <th>5</th>\n",
       "      <td>A244C34BC761A97487485F0FF5A43A49</td>\n",
       "      <td>3D1F7E00251C43107EF39F55300781DB</td>\n",
       "      <td>4442E4AF0916F53A07FB8CA9A49B98ED</td>\n",
       "      <td>AUD</td>\n",
       "      <td>1</td>\n",
       "    </tr>\n",
       "    <tr>\n",
       "      <th>6</th>\n",
       "      <td>320E61C42ECF023CAFE14891CF0158EF</td>\n",
       "      <td>76791A893BDB9A68E8EE44898D581A60</td>\n",
       "      <td>AE54A5C026F31ADA088992587D92CB3A</td>\n",
       "      <td>USD</td>\n",
       "      <td>1</td>\n",
       "    </tr>\n",
       "    <tr>\n",
       "      <th>7</th>\n",
       "      <td>EBF2C7DC4D5AF44E0B67749299ED9520</td>\n",
       "      <td>76791A893BDB9A68E8EE44898D581A60</td>\n",
       "      <td>AE54A5C026F31ADA088992587D92CB3A</td>\n",
       "      <td>USD</td>\n",
       "      <td>1</td>\n",
       "    </tr>\n",
       "    <tr>\n",
       "      <th>8</th>\n",
       "      <td>2BC2E3348A7BF6EB355EF0B1823FE531</td>\n",
       "      <td>76791A893BDB9A68E8EE44898D581A60</td>\n",
       "      <td>4442E4AF0916F53A07FB8CA9A49B98ED</td>\n",
       "      <td>USD</td>\n",
       "      <td>1</td>\n",
       "    </tr>\n",
       "    <tr>\n",
       "      <th>9</th>\n",
       "      <td>1A825113C3CC7A193A8F8A49AC70435B</td>\n",
       "      <td>76791A893BDB9A68E8EE44898D581A60</td>\n",
       "      <td>AE54A5C026F31ADA088992587D92CB3A</td>\n",
       "      <td>USD</td>\n",
       "      <td>1</td>\n",
       "    </tr>\n",
       "  </tbody>\n",
       "</table>\n",
       "</div>"
      ],
      "text/plain": [
       "                         login_hash                       server_hash  \\\n",
       "0  03A15F382AF3D505592CA69EFD4DC431  76791A893BDB9A68E8EE44898D581A60   \n",
       "1  F8ADF5FF9840712CE2AF7FA9EA2A3FA7  76791A893BDB9A68E8EE44898D581A60   \n",
       "2  B78CD788AB20A5D61CB13BD5389CABB3  76791A893BDB9A68E8EE44898D581A60   \n",
       "3  DEFB729116227EF8582BFEC65F998489  76791A893BDB9A68E8EE44898D581A60   \n",
       "4  9EAD9A73AA6C93823C56BB8C2E798B45  76791A893BDB9A68E8EE44898D581A60   \n",
       "5  A244C34BC761A97487485F0FF5A43A49  3D1F7E00251C43107EF39F55300781DB   \n",
       "6  320E61C42ECF023CAFE14891CF0158EF  76791A893BDB9A68E8EE44898D581A60   \n",
       "7  EBF2C7DC4D5AF44E0B67749299ED9520  76791A893BDB9A68E8EE44898D581A60   \n",
       "8  2BC2E3348A7BF6EB355EF0B1823FE531  76791A893BDB9A68E8EE44898D581A60   \n",
       "9  1A825113C3CC7A193A8F8A49AC70435B  76791A893BDB9A68E8EE44898D581A60   \n",
       "\n",
       "                       country_hash currency  enable  \n",
       "0  AE54A5C026F31ADA088992587D92CB3A      USD       1  \n",
       "1  AE54A5C026F31ADA088992587D92CB3A      USD       1  \n",
       "2  AE54A5C026F31ADA088992587D92CB3A      USD       1  \n",
       "3  103357E3E40A9C0E4E9D36110F7BBC7A      USD       1  \n",
       "4  AE54A5C026F31ADA088992587D92CB3A      USD       1  \n",
       "5  4442E4AF0916F53A07FB8CA9A49B98ED      AUD       1  \n",
       "6  AE54A5C026F31ADA088992587D92CB3A      USD       1  \n",
       "7  AE54A5C026F31ADA088992587D92CB3A      USD       1  \n",
       "8  4442E4AF0916F53A07FB8CA9A49B98ED      USD       1  \n",
       "9  AE54A5C026F31ADA088992587D92CB3A      USD       1  "
      ]
     },
     "execution_count": 36,
     "metadata": {},
     "output_type": "execute_result"
    }
   ],
   "source": [
    "users_df.head(10)"
   ]
  },
  {
   "cell_type": "code",
   "execution_count": 49,
   "metadata": {},
   "outputs": [
    {
     "data": {
      "text/html": [
       "<div>\n",
       "<style scoped>\n",
       "    .dataframe tbody tr th:only-of-type {\n",
       "        vertical-align: middle;\n",
       "    }\n",
       "\n",
       "    .dataframe tbody tr th {\n",
       "        vertical-align: top;\n",
       "    }\n",
       "\n",
       "    .dataframe thead th {\n",
       "        text-align: right;\n",
       "    }\n",
       "</style>\n",
       "<table border=\"1\" class=\"dataframe\">\n",
       "  <thead>\n",
       "    <tr style=\"text-align: right;\">\n",
       "      <th></th>\n",
       "      <th>login_hash</th>\n",
       "      <th>ticket_hash</th>\n",
       "      <th>server_hash</th>\n",
       "      <th>symbol</th>\n",
       "      <th>digits</th>\n",
       "      <th>cmd</th>\n",
       "      <th>volume</th>\n",
       "      <th>open_time</th>\n",
       "      <th>open_price</th>\n",
       "      <th>close_time</th>\n",
       "      <th>contractsize</th>\n",
       "      <th>trade_duration</th>\n",
       "    </tr>\n",
       "  </thead>\n",
       "  <tbody>\n",
       "    <tr>\n",
       "      <th>0</th>\n",
       "      <td>0DF500A57244E5B1670277767BEBB554</td>\n",
       "      <td>B321DC57F3B410507B986DD8962F8B1C</td>\n",
       "      <td>2F1CA40D76D7E6165DBA3924CE0D3B5C</td>\n",
       "      <td>EURUSD</td>\n",
       "      <td>5</td>\n",
       "      <td>1</td>\n",
       "      <td>5</td>\n",
       "      <td>2020-08-19 12:19:11</td>\n",
       "      <td>1.19459</td>\n",
       "      <td>2020-08-19 12:48:09</td>\n",
       "      <td>100000.0</td>\n",
       "      <td>1738.0</td>\n",
       "    </tr>\n",
       "    <tr>\n",
       "      <th>1</th>\n",
       "      <td>6D66E192834605522190E51BF226FF5B</td>\n",
       "      <td>F68DA930EE1129D94EDFA02EBAF9E7B4</td>\n",
       "      <td>2F1CA40D76D7E6165DBA3924CE0D3B5C</td>\n",
       "      <td>XAUUSD</td>\n",
       "      <td>2</td>\n",
       "      <td>1</td>\n",
       "      <td>1</td>\n",
       "      <td>2020-08-28 03:09:02</td>\n",
       "      <td>1925.48000</td>\n",
       "      <td>2020-08-28 06:03:45</td>\n",
       "      <td>100.0</td>\n",
       "      <td>10483.0</td>\n",
       "    </tr>\n",
       "    <tr>\n",
       "      <th>2</th>\n",
       "      <td>04852EC1A7D9FB8A291A24DDCE8C62B9</td>\n",
       "      <td>E351B480079ADEC7F6E6BE3ACEEA6EDF</td>\n",
       "      <td>2F1CA40D76D7E6165DBA3924CE0D3B5C</td>\n",
       "      <td>EURGBP</td>\n",
       "      <td>5</td>\n",
       "      <td>0</td>\n",
       "      <td>10</td>\n",
       "      <td>2020-08-25 13:47:34</td>\n",
       "      <td>0.90157</td>\n",
       "      <td>2020-09-08 12:20:43</td>\n",
       "      <td>100000.0</td>\n",
       "      <td>1204389.0</td>\n",
       "    </tr>\n",
       "    <tr>\n",
       "      <th>3</th>\n",
       "      <td>E62BE617269467931F2239C2771605C2</td>\n",
       "      <td>363723A73A926A7434E815F2F1D5ED61</td>\n",
       "      <td>2F1CA40D76D7E6165DBA3924CE0D3B5C</td>\n",
       "      <td>XAUUSD</td>\n",
       "      <td>2</td>\n",
       "      <td>1</td>\n",
       "      <td>10</td>\n",
       "      <td>2020-08-28 02:46:57</td>\n",
       "      <td>1926.68000</td>\n",
       "      <td>2020-08-28 02:51:13</td>\n",
       "      <td>100.0</td>\n",
       "      <td>256.0</td>\n",
       "    </tr>\n",
       "    <tr>\n",
       "      <th>4</th>\n",
       "      <td>54D2B4C5ECAE5FBC316524329846F81E</td>\n",
       "      <td>9CD4110328DA4CD71FFE0BE486D51094</td>\n",
       "      <td>2F1CA40D76D7E6165DBA3924CE0D3B5C</td>\n",
       "      <td>XAUUSD</td>\n",
       "      <td>2</td>\n",
       "      <td>1</td>\n",
       "      <td>85</td>\n",
       "      <td>2020-08-11 09:27:28</td>\n",
       "      <td>1999.12000</td>\n",
       "      <td>2020-08-11 09:27:54</td>\n",
       "      <td>100.0</td>\n",
       "      <td>26.0</td>\n",
       "    </tr>\n",
       "  </tbody>\n",
       "</table>\n",
       "</div>"
      ],
      "text/plain": [
       "                         login_hash                       ticket_hash  \\\n",
       "0  0DF500A57244E5B1670277767BEBB554  B321DC57F3B410507B986DD8962F8B1C   \n",
       "1  6D66E192834605522190E51BF226FF5B  F68DA930EE1129D94EDFA02EBAF9E7B4   \n",
       "2  04852EC1A7D9FB8A291A24DDCE8C62B9  E351B480079ADEC7F6E6BE3ACEEA6EDF   \n",
       "3  E62BE617269467931F2239C2771605C2  363723A73A926A7434E815F2F1D5ED61   \n",
       "4  54D2B4C5ECAE5FBC316524329846F81E  9CD4110328DA4CD71FFE0BE486D51094   \n",
       "\n",
       "                        server_hash  symbol  digits  cmd  volume  \\\n",
       "0  2F1CA40D76D7E6165DBA3924CE0D3B5C  EURUSD       5    1       5   \n",
       "1  2F1CA40D76D7E6165DBA3924CE0D3B5C  XAUUSD       2    1       1   \n",
       "2  2F1CA40D76D7E6165DBA3924CE0D3B5C  EURGBP       5    0      10   \n",
       "3  2F1CA40D76D7E6165DBA3924CE0D3B5C  XAUUSD       2    1      10   \n",
       "4  2F1CA40D76D7E6165DBA3924CE0D3B5C  XAUUSD       2    1      85   \n",
       "\n",
       "            open_time  open_price          close_time  contractsize  \\\n",
       "0 2020-08-19 12:19:11     1.19459 2020-08-19 12:48:09      100000.0   \n",
       "1 2020-08-28 03:09:02  1925.48000 2020-08-28 06:03:45         100.0   \n",
       "2 2020-08-25 13:47:34     0.90157 2020-09-08 12:20:43      100000.0   \n",
       "3 2020-08-28 02:46:57  1926.68000 2020-08-28 02:51:13         100.0   \n",
       "4 2020-08-11 09:27:28  1999.12000 2020-08-11 09:27:54         100.0   \n",
       "\n",
       "   trade_duration  \n",
       "0          1738.0  \n",
       "1         10483.0  \n",
       "2       1204389.0  \n",
       "3           256.0  \n",
       "4            26.0  "
      ]
     },
     "execution_count": 49,
     "metadata": {},
     "output_type": "execute_result"
    }
   ],
   "source": [
    "trades_df.head(5)"
   ]
  },
  {
   "cell_type": "code",
   "execution_count": 10,
   "metadata": {},
   "outputs": [
    {
     "name": "stdout",
     "output_type": "stream",
     "text": [
      "<class 'pandas.core.frame.DataFrame'>\n",
      "RangeIndex: 1000 entries, 0 to 999\n",
      "Data columns (total 5 columns):\n",
      " #   Column        Non-Null Count  Dtype \n",
      "---  ------        --------------  ----- \n",
      " 0   login_hash    1000 non-null   object\n",
      " 1   server_hash   1000 non-null   object\n",
      " 2   country_hash  1000 non-null   object\n",
      " 3   currency      1000 non-null   object\n",
      " 4   enable        1000 non-null   int64 \n",
      "dtypes: int64(1), object(4)\n",
      "memory usage: 39.2+ KB\n"
     ]
    }
   ],
   "source": [
    "users_df.info()"
   ]
  },
  {
   "cell_type": "code",
   "execution_count": 11,
   "metadata": {},
   "outputs": [
    {
     "name": "stdout",
     "output_type": "stream",
     "text": [
      "<class 'pandas.core.frame.DataFrame'>\n",
      "RangeIndex: 100000 entries, 0 to 99999\n",
      "Data columns (total 11 columns):\n",
      " #   Column        Non-Null Count   Dtype         \n",
      "---  ------        --------------   -----         \n",
      " 0   login_hash    100000 non-null  object        \n",
      " 1   ticket_hash   100000 non-null  object        \n",
      " 2   server_hash   100000 non-null  object        \n",
      " 3   symbol        100000 non-null  object        \n",
      " 4   digits        100000 non-null  int64         \n",
      " 5   cmd           100000 non-null  int64         \n",
      " 6   volume        100000 non-null  int64         \n",
      " 7   open_time     100000 non-null  datetime64[ns]\n",
      " 8   open_price    100000 non-null  float64       \n",
      " 9   close_time    100000 non-null  datetime64[ns]\n",
      " 10  contractsize  99993 non-null   float64       \n",
      "dtypes: datetime64[ns](2), float64(2), int64(3), object(4)\n",
      "memory usage: 8.4+ MB\n"
     ]
    }
   ],
   "source": [
    "trades_df.info()"
   ]
  },
  {
   "cell_type": "markdown",
   "metadata": {},
   "source": [
    "Note:\n",
    "\n",
    "We can already see that there are missing values in the contractsize column."
   ]
  },
  {
   "cell_type": "code",
   "execution_count": 12,
   "metadata": {},
   "outputs": [
    {
     "name": "stdout",
     "output_type": "stream",
     "text": [
      "Users DataFrame Description:\n",
      "            enable\n",
      "count  1000.000000\n",
      "mean      0.973000\n",
      "std       0.162164\n",
      "min       0.000000\n",
      "25%       1.000000\n",
      "50%       1.000000\n",
      "75%       1.000000\n",
      "max       1.000000\n",
      "\n",
      "Trades DataFrame Description:\n",
      "              digits            cmd         volume  \\\n",
      "count  100000.000000  100000.000000  100000.000000   \n",
      "mean        3.214250       0.448170      17.986650   \n",
      "min         0.000000       0.000000       0.000000   \n",
      "25%         2.000000       0.000000       1.000000   \n",
      "50%         2.000000       0.000000       3.000000   \n",
      "75%         5.000000       1.000000      10.000000   \n",
      "max         5.000000       1.000000   10000.000000   \n",
      "std         1.463171       0.497309     100.438786   \n",
      "\n",
      "                           open_time     open_price  \\\n",
      "count                         100000  100000.000000   \n",
      "mean   2020-08-15 20:10:26.219120128    1262.544975   \n",
      "min              2020-08-03 00:01:05       0.591670   \n",
      "25%              2020-08-07 15:46:16       1.190937   \n",
      "50%              2020-08-13 23:32:38    1887.590000   \n",
      "75%    2020-08-24 12:40:05.249999872    1967.152500   \n",
      "max              2020-08-31 23:58:39   28795.000000   \n",
      "std                              NaN    2585.110285   \n",
      "\n",
      "                          close_time   contractsize  \n",
      "count                         100000   99993.000000  \n",
      "mean   2020-09-20 09:15:52.871069952   44856.840239  \n",
      "min              2020-08-03 00:36:19       1.000000  \n",
      "25%              2020-08-07 17:13:20     100.000000  \n",
      "50%       2020-08-14 10:16:13.500000     100.000000  \n",
      "75%              2020-08-25 23:01:06  100000.000000  \n",
      "max              2022-08-18 23:57:18  100000.000000  \n",
      "std                              NaN   49669.111281  \n"
     ]
    }
   ],
   "source": [
    "print(\"Users DataFrame Description:\")\n",
    "print(users_df.describe())\n",
    "\n",
    "print(\"\\nTrades DataFrame Description:\")\n",
    "print(trades_df.describe())"
   ]
  },
  {
   "cell_type": "markdown",
   "metadata": {},
   "source": [
    "**Testing**"
   ]
  },
  {
   "cell_type": "code",
   "execution_count": 17,
   "metadata": {},
   "outputs": [
    {
     "name": "stdout",
     "output_type": "stream",
     "text": [
      "NULL values detected at column:\n",
      "contractsize    7\n",
      "dtype: int64\n"
     ]
    }
   ],
   "source": [
    "#Check for NULLs and missing values\n",
    "\n",
    "def check_for_nulls(df):\n",
    "    null_counts = df.isnull().sum()\n",
    "    if null_counts.any():\n",
    "        print(f\"NULL values detected at column:\\n{null_counts[null_counts > 0]}\")\n",
    "\n",
    "check_for_nulls(users_df)\n",
    "check_for_nulls(trades_df)"
   ]
  },
  {
   "cell_type": "markdown",
   "metadata": {},
   "source": [
    "Note:\n",
    "\n",
    "Missing values detected in the trade table contractsize column, they should be removed or replaced."
   ]
  },
  {
   "cell_type": "code",
   "execution_count": 21,
   "metadata": {},
   "outputs": [
    {
     "name": "stdout",
     "output_type": "stream",
     "text": [
      "Unexpected values in contractsize:\n",
      "                             login_hash                       ticket_hash  \\\n",
      "869    2BCA9F6675B4F907E51DE5570E443D2B  B883EA07D74C0EB619A7ECC92F59312C   \n",
      "6752   32DE9EECD10691C33D28F716CC255364  7EB45147326758A1128032D6D67E2235   \n",
      "7818   2BCA9F6675B4F907E51DE5570E443D2B  3A4199B38A115C61789D3611B1490381   \n",
      "8371   87664AA1F50A83BB2429989AA470A167  DDBAA964028BEBBDFF5EC91F9C268829   \n",
      "76794  2BCA9F6675B4F907E51DE5570E443D2B  87E404EF518982E7B276442506AFF3B4   \n",
      "92109  D33487486545A737682F7D1E5ECEABD8  EFC383645A70715146570CF4B4AF2607   \n",
      "97721  2BCA9F6675B4F907E51DE5570E443D2B  EE9AA9FD12760CDD3F86FE72F84CFD0A   \n",
      "\n",
      "                            server_hash  symbol  digits  cmd  volume  \\\n",
      "869    2F1CA40D76D7E6165DBA3924CE0D3B5C  COFFEE       2    1     100   \n",
      "6752   3D1F7E00251C43107EF39F55300781DB  COFFEE       2    0     100   \n",
      "7818   2F1CA40D76D7E6165DBA3924CE0D3B5C  COFFEE       2    0     100   \n",
      "8371   3D1F7E00251C43107EF39F55300781DB  COFFEE       2    0     100   \n",
      "76794  2F1CA40D76D7E6165DBA3924CE0D3B5C  COFFEE       2    1     100   \n",
      "92109  2F1CA40D76D7E6165DBA3924CE0D3B5C  COFFEE       2    1     100   \n",
      "97721  2F1CA40D76D7E6165DBA3924CE0D3B5C  COFFEE       2    1     100   \n",
      "\n",
      "                open_time  open_price          close_time  contractsize  \n",
      "869   2020-08-19 15:46:03      121.37 2020-08-19 16:26:32           NaN  \n",
      "6752  2020-08-11 16:33:22      112.89 2020-08-12 16:51:29           NaN  \n",
      "7818  2020-08-14 17:04:35      118.54 2020-08-14 19:51:32           NaN  \n",
      "8371  2020-08-03 13:43:47      118.95 2020-08-05 16:18:59           NaN  \n",
      "76794 2020-08-19 13:59:06      121.68 2020-08-19 15:13:10           NaN  \n",
      "92109 2020-08-31 18:32:06      127.67 2020-08-31 19:26:24           NaN  \n",
      "97721 2020-08-17 12:10:50      115.55 2020-08-17 14:54:03           NaN  \n"
     ]
    }
   ],
   "source": [
    "# Check for unexpected numerical values\n",
    "\n",
    "# check for numerical range\n",
    "def check_unexpected_numerical(df, column, min_value, max_value):\n",
    "    unexpected_values = df[(df[column] < min_value) | (df[column] > max_value)]\n",
    "    if not unexpected_values.empty:\n",
    "        print(f\"Unexpected numerical values in {column}:\\n{unexpected_values}\")\n",
    "\n",
    "# check for specific values\n",
    "def check_specific_numerical_values(df, column, allowed_values):\n",
    "    unexpected_values = df[~df[column].isin(allowed_values)]\n",
    "    if not unexpected_values.empty:\n",
    "        print(f\"Unexpected values in {column}:\\n{unexpected_values}\")\n",
    "\n",
    "# Check if all values in the column are integers\n",
    "def check_all_integers(df, column):\n",
    "    if not df[column].apply(lambda x: isinstance(x, int) or (isinstance(x, float) and x.is_integer())).all():\n",
    "        print(f\"Non-integer values found in {column}\")\n",
    "\n",
    "\n",
    "check_specific_numerical_values(users_df, 'enable', allowed_values={0,1})     # 'enable' should be either 0 or 1\n",
    "check_specific_numerical_values(trades_df, 'cmd', allowed_values={0,1})     # 'cmd' should be either 0 or 1\n",
    "check_specific_numerical_values(trades_df, 'contractsize', allowed_values={1, 10, 100, 1000, 100000})  # it seems 'contractsize' should be like this\n",
    "\n",
    "check_all_integers(trades_df, 'digits') # 'digits' should be integers\n",
    "check_all_integers(trades_df, 'volume') # 'volume' should be integers"
   ]
  },
  {
   "cell_type": "markdown",
   "metadata": {},
   "source": [
    "It seems there are no unexpected values in numerical columns.\n",
    "\n",
    "However, there seems to be an invalid symbol called \"COFFEE\" that should be removed."
   ]
  },
  {
   "cell_type": "code",
   "execution_count": 27,
   "metadata": {},
   "outputs": [],
   "source": [
    "# check for unexpected dates\n",
    "\n",
    "def detect_close_before_open(df, open_column='open_time', close_column='close_time'):\n",
    "    # Identify rows where close_date is before open_date\n",
    "    anomalies = df[df[close_column] < df[open_column]]\n",
    "    if not anomalies.empty:\n",
    "        print(f\"Rows with {close_column} prior to {open_column}:\\n{anomalies}\")\n",
    "\n",
    "detect_close_before_open(trades_df)"
   ]
  },
  {
   "cell_type": "markdown",
   "metadata": {},
   "source": [
    "Note:\n",
    "\n",
    "No close before open time."
   ]
  },
  {
   "cell_type": "code",
   "execution_count": 54,
   "metadata": {},
   "outputs": [
    {
     "name": "stdout",
     "output_type": "stream",
     "text": [
      "All values in column 'login_hash' are valid hashes of length 32.\n",
      "All values in column 'ticket_hash' are valid hashes of length 32.\n",
      "All values in column 'server_hash' are valid hashes of length 32.\n",
      "All values in column 'login_hash' are valid hashes of length 32.\n",
      "All values in column 'country_hash' are valid hashes of length 32.\n",
      "All values in column 'server_hash' are valid hashes of length 32.\n"
     ]
    }
   ],
   "source": [
    "# Check for unexpected strings\n",
    "import re\n",
    "\n",
    "def check_hash_values(df, column, expected_length=32):\n",
    "    # Regular expression for a valid hexadecimal string of the specified length\n",
    "    hash_pattern = re.compile(r'^[A-F0-9]{' + str(expected_length) + r'}$')\n",
    "    \n",
    "    # Check each value in the column for compliance with the hash format\n",
    "    invalid_hashes = df[~df[column].apply(lambda x: bool(hash_pattern.match(x)))]\n",
    "    \n",
    "    if not invalid_hashes.empty:\n",
    "        print(f\"Invalid hash values in column '{column}':\\n{invalid_hashes}\")\n",
    "    else:\n",
    "        print(f\"All values in column '{column}' are valid hashes of length {expected_length}.\")\n",
    "\n",
    "check_hash_values(trades_df, 'login_hash')\n",
    "check_hash_values(trades_df, 'ticket_hash')\n",
    "check_hash_values(trades_df, 'server_hash')\n",
    "check_hash_values(users_df, 'login_hash')\n",
    "check_hash_values(users_df, 'country_hash')\n",
    "check_hash_values(users_df, 'server_hash')"
   ]
  },
  {
   "cell_type": "code",
   "execution_count": 51,
   "metadata": {},
   "outputs": [
    {
     "name": "stdout",
     "output_type": "stream",
     "text": [
      "Unexpected symbol 'COFFEE' found in the trades table:\n",
      " 7\n"
     ]
    }
   ],
   "source": [
    "def check_unexpected_symbols(df, unexpected_symbol):\n",
    "    unexpected_rows = df[df['symbol'] == unexpected_symbol]\n",
    "    if not unexpected_rows.empty:\n",
    "        print(f\"Unexpected symbol '{unexpected_symbol}' found in the trades table:\\n\", len(unexpected_rows))\n",
    "\n",
    "check_unexpected_symbols(trades_df, unexpected_symbol=\"COFFEE\")\n"
   ]
  },
  {
   "cell_type": "markdown",
   "metadata": {},
   "source": [
    "Note:\n",
    "\n",
    "there are 7 rows with the wrong symbol \"COFFEE\", exactly the rows with missing contractsize"
   ]
  },
  {
   "cell_type": "code",
   "execution_count": 59,
   "metadata": {},
   "outputs": [
    {
     "name": "stdout",
     "output_type": "stream",
     "text": [
      "No inconsistencies found.\n",
      "No inconsistencies found.\n"
     ]
    }
   ],
   "source": [
    "# Data Integrity Checks\n",
    "\n",
    "# check records with the same login_hash value should have the same server_hash value\n",
    "def check_login_server_consistency(users_df, trades_df):\n",
    "\n",
    "    combined_df = pd.concat([users_df[['login_hash', 'server_hash']], trades_df[['login_hash', 'server_hash']]])\n",
    "    inconsistent_logins = combined_df.groupby('login_hash')['server_hash'].nunique()\n",
    "    \n",
    "    # Filter to find login_hash entries associated with more than one server_hash\n",
    "    inconsistent_logins = inconsistent_logins[inconsistent_logins > 1]\n",
    "    \n",
    "    if not inconsistent_logins.empty:\n",
    "        print(\"The following login_hash values are associated with multiple server_hash values:\")\n",
    "        for login_hash, count in inconsistent_logins.items():\n",
    "            print(f\"login_hash: {login_hash}, unique server_hash count: {count}\")\n",
    "    else:\n",
    "        print(\"No inconsistencies found.\")\n",
    "\n",
    "# check records with the same ticket_hash value should have the same server_hash value\n",
    "def check_ticket_server_consistency(trades_df):\n",
    "\n",
    "    inconsistent_logins = trades_df.groupby('ticket_hash')['server_hash'].nunique()\n",
    "    inconsistent_logins = inconsistent_logins[inconsistent_logins > 1]\n",
    "    \n",
    "    if not inconsistent_logins.empty:\n",
    "        print(\"The following ticket_hash values are associated with multiple server_hash values:\")\n",
    "        for ticket_hash, count in inconsistent_logins.items():\n",
    "            print(f\"ticket_hash: {ticket_hash}, unique server_hash count: {count}\")\n",
    "    else:\n",
    "        print(\"No inconsistencies found.\")\n",
    "\n",
    "check_login_server_consistency(users_df, trades_df)\n",
    "check_ticket_server_consistency(trades_df)"
   ]
  },
  {
   "cell_type": "markdown",
   "metadata": {},
   "source": [
    "Note:\n",
    "\n",
    "No inconsistencies for joining"
   ]
  }
 ],
 "metadata": {
  "kernelspec": {
   "display_name": "Python 3",
   "language": "python",
   "name": "python3"
  },
  "language_info": {
   "codemirror_mode": {
    "name": "ipython",
    "version": 3
   },
   "file_extension": ".py",
   "mimetype": "text/x-python",
   "name": "python",
   "nbconvert_exporter": "python",
   "pygments_lexer": "ipython3",
   "version": "3.10.13"
  }
 },
 "nbformat": 4,
 "nbformat_minor": 2
}
